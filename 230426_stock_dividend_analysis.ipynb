{
 "cells": [
  {
   "cell_type": "code",
   "execution_count": 1,
   "metadata": {},
   "outputs": [],
   "source": [
    "\"\"\" 이 문서는 미국 배당주의 구매 시기 분석을 위한 데이터 수집 문서입니다.\n",
    "해당 문서에 사용된 URL과 API는 다음과 같습니다.\n",
    "주식 정보 크롤링 : 주식 별 주가 history = https://www.investing.com/, 주가, 배당금, 배당빈도 = https://www.stockanalysis.com",
    "\"\"\"\n",
    "\n",
    "from urllib.request import Request, urlopen\n",
    "import requests\n",
    "from bs4 import BeautifulSoup\n",
    "import numpy as np\n",
    "import pandas as pd\n",
    "import re\n",
    "import time\n",
    "import csv\n",
    "from datetime import datetime\n",
    "\n",
    "bs = BeautifulSoup"
   ]
  },
  {
   "attachments": {},
   "cell_type": "markdown",
   "metadata": {},
   "source": [
    "**{키 : {딕셔너리}} 또는 {키 : 스트링}의 구조를 쉽게 만들기 위한 함수**"
   ]
  },
  {
   "cell_type": "code",
   "execution_count": 2,
   "metadata": {},
   "outputs": [],
   "source": [
    "def make_list(name, item):\n",
    "    \"\"\" 일반 주식인지 ETF인지의 구분이 필요하여 제작한 함수\n",
    "    Args:\n",
    "        name = 키값\n",
    "        item = value 값 \n",
    "\n",
    "    Returns:\n",
    "        리스트 안에 딕셔너리 형식을 반환하며 상세 예제는 아래와 같습니다.\n",
    "        name = 'stock'\n",
    "        item = ['o','adm','aapl','msft']\n",
    "        출력 -> [{'stocks': 'o'}, \n",
    "                {'stocks': 'adm'}, \n",
    "                {'stocks': 'aapl'}, \n",
    "                {'stocks': 'msft'}] \n",
    "\n",
    "    Raises:\n",
    "        Error: item must be iterable value.\n",
    "    \"\"\"\n",
    "    result = []\n",
    "    for li in range(len(item)):\n",
    "        result.append({name: item[li]})\n",
    "    return result"
   ]
  },
  {
   "attachments": {},
   "cell_type": "markdown",
   "metadata": {},
   "source": [
    "**사이트명 리스트화를 위한 함수**"
   ]
  },
  {
   "cell_type": "code",
   "execution_count": 3,
   "metadata": {},
   "outputs": [],
   "source": [
    "def stock_site(stocklist):\n",
    "    \"\"\" 리스트 입력시 'stockanalysis.com' 사이트 내 dividend 항목으로 접속 가능한 주소를 일괄 정리해주는 함수\n",
    "    Args:\n",
    "        stock_type = 일반 'stock'인지, 'etf'인지 구분\n",
    "        co_ticker = 주식 티커\n",
    "\n",
    "    Returns:\n",
    "        리스트 형식의 'stockanalysis.com'의 주소를 반환하며 상세 예제는 아래와 같습니다.\n",
    "        stocklist = [{'stocks': 'o'}, \n",
    "                    {'stocks': 'adm'}, \n",
    "                    {'stocks': 'aapl'}, \n",
    "                    {'stocks': 'msft'}]\n",
    "        출력 -> ['https://stockanalysis.com/stocks/o/dividend/',\n",
    "                'https://stockanalysis.com/stocks/adm/dividend/',\n",
    "                'https://stockanalysis.com/stocks/aapl/dividend/',\n",
    "                'https://stockanalysis.com/stocks/msft/dividend/']\n",
    "    \"\"\"\n",
    "    main_url = []\n",
    "    for  stock_type, co_ticker in stocklist.items():\n",
    "        main_url = [f\"https://stockanalysis.com/{stock_type}/{co_ticker}/dividend/\"]\n",
    "    return main_url"
   ]
  },
  {
   "attachments": {},
   "cell_type": "markdown",
   "metadata": {},
   "source": [
    "**배당률 계산하기 쉽게 만든 함수**"
   ]
  },
  {
   "cell_type": "code",
   "execution_count": 5,
   "metadata": {},
   "outputs": [],
   "source": [
    "def divi_rate(stock_price, dividend, divi_freq):\n",
    "    \"\"\" 각 배당빈도 별 배당률을 기준으로 총 배당률을 계산합니다.\n",
    "    배당률 X 배당빈도 / 현재가 X 100 \n",
    "    Args:\n",
    "        stock_price = 기준이 되는 주가\n",
    "        dividend = 배당빈도별 배당금\n",
    "        divi_freq = 구하고자 하는 배당빈도\n",
    "\n",
    "    Returns:\n",
    "        float 값을 반환합니다.\n",
    "        stock_price = 60.99\n",
    "        dividend = 0.2555\n",
    "        divi_freq = 'Monthly'\n",
    "        출력 -> 5.03\n",
    "        \"\"\"\n",
    "    stock_price = float(stock_price)\n",
    "    dividend = float(dividend)\n",
    "    \n",
    "    if divi_freq == 'Monthly':\n",
    "        divi_freq = 12\n",
    "    elif divi_freq == 'Quarterly':\n",
    "        divi_freq = 4\n",
    "    elif divi_freq == 'Semi-Annual':\n",
    "        divi_freq = 2\n",
    "    elif divi_freq == 'Annual':\n",
    "        divi_freq = 1\n",
    "    else:\n",
    "        print('error')\n",
    "        \n",
    "    total_val = dividend * divi_freq / stock_price * 100 \n",
    "    return f\"{total_val:0.2f}\""
   ]
  },
  {
   "attachments": {},
   "cell_type": "markdown",
   "metadata": {},
   "source": [
    "**회사명 목록화**"
   ]
  },
  {
   "cell_type": "code",
   "execution_count": 6,
   "metadata": {},
   "outputs": [
    {
     "name": "stdout",
     "output_type": "stream",
     "text": [
      "<class 'list'>\n",
      "[{'stocks': 'o'}, {'stocks': 'adm'}, {'stocks': 'aapl'}, {'stocks': 'msft'}, {'etf': 'jepi'}, {'etf': 'spy'}]\n"
     ]
    }
   ],
   "source": [
    "\"\"\" 작업을 쉽게하기 위한 회사명 목록화\n",
    "\n",
    "추출을 수월하게 하기 위해 일반 주식('stocks')과 ETF('etf')로 구분하여 딕셔너리 구조를 만든다.\n",
    "\n",
    "이때 추출된 '현재가', '배당금', '배당빈도'을  딕셔너리 구조로 각 항목마다 포함시키기 위해\n",
    "{딕셔너리{딕셔너리}} 구조로 만든다.\n",
    "\"\"\"\n",
    "\n",
    "stocks = ['o', 'adm', 'aapl', 'msft']\n",
    "etf = ['jepi', 'spy']\n",
    "\n",
    "company_name = make_list('stocks', stocks)\n",
    "etf_name = make_list('etf',etf)\n",
    "\n",
    "stock_list = company_name + etf_name\n",
    "\n",
    "print(type(stock_list))\n",
    "print(stock_list[:])"
   ]
  },
  {
   "attachments": {},
   "cell_type": "markdown",
   "metadata": {},
   "source": [
    "**현재가, 배당금, 배당빈도 가져오기**"
   ]
  },
  {
   "cell_type": "code",
   "execution_count": 7,
   "metadata": {},
   "outputs": [],
   "source": [
    "\"\"\" 본격적으로 데이터를 추출해보자\n",
    "\n",
    "1. 접근이 막혀있어 헤더를 추가함 + requests.get은 지속적으로 403오류가 발생하여 Request로 접근함\n",
    "2. URL 개수 만큼 루핑을 하기 위해 for문 적용함\n",
    "3. 제일 먼저 각 항목별 URL을 추출함 \n",
    "\n",
    "\"\"\"\n",
    "headers = {'User-Agent': 'Mozilla/5.0 (Macintosh; Intel Mac OS X 10_15_7)\\\n",
    "            AppleWebKit/537.36 (KHTML, like Gecko) Chrome/101.0.4951.41 Safari/537.36'}\n",
    "\n",
    "# URL 추출\n",
    "url_list = []\n",
    "for i in stock_list:\n",
    "    for key in i.keys(): \n",
    "        url_list.extend(stock_site(i))\n",
    "\n",
    "price_now = []\n",
    "dividend = []\n",
    "dividend_freq = []\n",
    "for source in url_list:\n",
    "    get_main_url = Request(source, headers=headers)\n",
    "    main_html = urlopen(get_main_url).read()\n",
    "    bs_main = bs(main_html, 'html.parser')\n",
    "\n",
    "    # 각 종목별 현재가 추출\n",
    "    price1 = bs_main.select_one(\"div[class='text-4xl font-bold inline-block']\")\n",
    "    price2 = bs_main.select_one(\"div[class='text-4xl font-bold block sm:inline']\")\n",
    "\n",
    "    if price1:\n",
    "        all_price = price1\n",
    "    elif price2:\n",
    "        all_price = price2\n",
    "    all_price = all_price.text\n",
    "    price_now.append(all_price)\n",
    "    \n",
    "    # 각 종목별 배당금 추출\n",
    "    divi_all = bs_main.select(\"td[class='svelte-1jtwn20']\")[1].text\n",
    "    divi_all = divi_all.replace('$','')\n",
    "    dividend.append(divi_all)\n",
    "\n",
    "    # 각 종목별 배당빈도 추출\n",
    "    divi_year_all = bs_main.select(\"div[class='mt-0.5 text-lg font-semibold bp:text-xl sm:mt-1.5 sm:text-2xl']\")[3].text\n",
    "    dividend_freq.append(divi_year_all)"
   ]
  },
  {
   "cell_type": "code",
   "execution_count": 21,
   "metadata": {},
   "outputs": [
    {
     "data": {
      "text/plain": [
       "['0.2555', '0.450', '0.240', '0.680', '0.3593', '1.63837']"
      ]
     },
     "execution_count": 21,
     "metadata": {},
     "output_type": "execute_result"
    }
   ],
   "source": [
    "dividend"
   ]
  },
  {
   "cell_type": "code",
   "execution_count": 8,
   "metadata": {},
   "outputs": [],
   "source": [
    "# 각 종목별 배당 테이블 데이터 내 배당금의 해당일 리스트 추출\n",
    "table_dividend_list = []\n",
    "for source in url_list:\n",
    "    get_main_url = Request(source, headers=headers)\n",
    "    main_html = urlopen(get_main_url).read()\n",
    "    bs_main = bs(main_html, 'html.parser')\n",
    "\n",
    "    table_date = bs_main.select(\"tbody >  tr[class=svelte-1jtwn20] > td:nth-child(4)\")\n",
    "    table_dividend = bs_main.select(\"tbody >  tr[class=svelte-1jtwn20] > td:nth-child(2)\")\n",
    "    \n",
    "    table_dividend_date_list = []\n",
    "    table_dividend_price_list = []\n",
    "    for i in range(len(table_date)):\n",
    "        table_dividend_price_1 = table_dividend[i].text # 과거 주가 추출\n",
    "        table_dividend_price = float(table_dividend_price_1.replace(\"$\", \"\"))\n",
    "        table_dividend_date = table_date[i].text # 해당일 추출\n",
    "        \n",
    "        # May 15, 2023\n",
    "        table_dividend_date = datetime.strptime(table_dividend_date, '%b %d, %Y')\n",
    "        table_dividend_date_modify = table_dividend_date.strftime('%m/%d/%Y')\n",
    "        if table_dividend_date >= datetime(2020, 1, 1):\n",
    "            table_dividend_price_list.append(table_dividend_price)\n",
    "            table_dividend_date_list.append(table_dividend_date_modify)\n",
    "\n",
    "        # 최고 배당금의 해당하는 날짜를 추출하기 위한 딕셔너리 묶음화 {key - 날짜 : Value - 과거 주가} ->\n",
    "        # 최고 배당금 수령 당시 주가를 확인하여 배당률을 확인하기 위함\n",
    "        tabel_value_dict = dict(zip(table_dividend_date_list, table_dividend_price_list))\n",
    "    table_dividend_list.append(tabel_value_dict)"
   ]
  },
  {
   "cell_type": "code",
   "execution_count": 9,
   "metadata": {},
   "outputs": [
    {
     "name": "stdout",
     "output_type": "stream",
     "text": [
      "[['o', '60.99', 'Monthly', '0.2555', '5.03'], ['adm', '80.75', 'Quarterly', '0.450', '2.23'], ['aapl', '193.61', 'Quarterly', '0.240', '0.50'], ['msft', '359.49', 'Quarterly', '0.680', '0.76'], ['jepi', '55.40', 'Monthly', '0.3593', '7.78'], ['spy', '454.19', 'Quarterly', '1.63837', '1.44']]\n"
     ]
    }
   ],
   "source": [
    "# 모든 데이터 종합\n",
    "all_info = []\n",
    "stock_list_all = []\n",
    "for sln in range(len(stock_list)):\n",
    "    slv = list(stock_list[sln].values())\n",
    "    stock_list_all.append(slv[0])\n",
    "    all_info.append([(stock_list_all[sln]),\n",
    "                     (price_now[sln]), \n",
    "                     (dividend_freq[sln]), \n",
    "                     (dividend[sln]), \n",
    "                     (divi_rate(price_now[sln],dividend[sln],dividend_freq[sln]))])\n",
    "\n",
    "print(all_info)"
   ]
  },
  {
   "cell_type": "code",
   "execution_count": 10,
   "metadata": {},
   "outputs": [],
   "source": [
    "# conda install -c conda-forge selenium\n",
    "# conda install -c conda-forge webdriver-manager\n",
    "import selenium\n",
    "from selenium import webdriver\n",
    "from selenium.webdriver.chrome.service import Service as ChromeService\n",
    "from selenium.webdriver.chrome.options import Options\n",
    "from selenium.webdriver.common.by import By\n",
    "from selenium.common.exceptions import TimeoutException\n",
    "from selenium.webdriver.common.action_chains import ActionChains\n",
    "from selenium.webdriver.common.keys import Keys\n",
    "from selenium.webdriver.common.desired_capabilities import DesiredCapabilities\n",
    "from selenium.webdriver.support import expected_conditions as EC\n",
    "from selenium.webdriver.support.wait import WebDriverWait\n",
    "\n",
    "import webdriver_manager\n",
    "from webdriver_manager.chrome import ChromeDriverManager"
   ]
  },
  {
   "attachments": {},
   "cell_type": "markdown",
   "metadata": {},
   "source": [
    "**최고 배당율 알아보기**"
   ]
  },
  {
   "cell_type": "code",
   "execution_count": 11,
   "metadata": {},
   "outputs": [
    {
     "name": "stdout",
     "output_type": "stream",
     "text": [
      "['https://www.investing.com/equities/realty-income-historical-data', 'https://www.investing.com/equities/archer-daniels-mid-historical-data', 'https://www.investing.com/equities/apple-computer-inc-historical-data', 'https://www.investing.com/equities/microsoft-corp-historical-data', 'https://www.investing.com/etfs/jepi-historical-data', 'https://www.investing.com/etfs/spdr-s-p-500-historical-data']\n"
     ]
    }
   ],
   "source": [
    "\"\"\" INVESTING.COM 사이트를 통해 최고배당금이었을 때 당시 주가로 배당률을 알아보자.\n",
    "\n",
    "stockanalysis.com이 아니라 investing.com으로 당시 주가 알아보는 이유:\n",
    "stockanalysis의 과거 주가는 차트이나, investing.com는 과거 주가가 목록으로 정리되어 있어 과거 주가는 investin.com을 사용한다.\n",
    "\n",
    "방법 1. 주가를 상징하는 티커는 동일하다.\n",
    "방법 2. 티커를 기점으로 investing.com의 URL주소를 추출한다.\n",
    "방법 3. 최고 배당금 당시 날짜를 찾아 해당일의 주가를 추출한다. (selenium 사용)\n",
    "방법 4. 만들어둔 함수를 통해 배당률을 구한다. (divi_rate)\n",
    "\n",
    "* selenium 사용 시\n",
    "  > URL 주소 추출은 Request를 사용함(오류나서 안쓰는 것으로 변경)\n",
    "  \"\"\"\n",
    "\n",
    "# 티커를 기준으로 검색 시 제일 위에 있는 항목의 주소를 가져오도록 요청.\n",
    "investing_com_urls = []\n",
    "for iu in all_info:\n",
    "  inv_co_name = iu[0]\n",
    "  inv_main_url = Request(f\"https://www.investing.com/search/?q={inv_co_name}\", headers=headers) # investing.com은 티커를 URL에 사용하지 않아 직접 검색 후 찾아야함\n",
    "  inv_html = urlopen(inv_main_url).read()\n",
    "  inv_main = bs(inv_html, 'html.parser')\n",
    "  inv_stock = inv_main.select_one(\"span[class='second']\") # 해당되는 티커의 태그를 반환함\n",
    "  investing_com_urls.append(f\"https://www.investing.com{inv_stock.find_parent('a').get('href')}-historical-data\") # 티커 태그의 부모 태그 중 URL 주소가 담긴 href 요소를 추출함\n",
    "\n",
    "print(investing_com_urls)\n"
   ]
  },
  {
   "attachments": {},
   "cell_type": "markdown",
   "metadata": {},
   "source": [
    "**최고 배당율 알아보기2 (selenuim)**"
   ]
  },
  {
   "cell_type": "code",
   "execution_count": 13,
   "metadata": {},
   "outputs": [],
   "source": [
    "# investing.com 사이트 내 각 종목별 3년치 종가 추출\n",
    "options = Options()\n",
    "options.add_argument(\"--headless\") # 브라우저 안뜨게 하는 옵션 (작업 시간 단축)\n",
    "options.add_argument(\"--window-size= 968, 1012\")\n",
    "options.add_argument('--blink-settings=imagesEnabled=false') # 이미지파일 로딩 제한으로 속도 향상\n",
    "options.add_argument('user-agent=Mozilla/5.0 (Macintosh; Intel Mac OS X 10_15_3)\\\n",
    "                      AppleWebKit/537.36 (KHTML, like Gecko) Chrome/80.0.3987.87 Safari/537.36')\n",
    "\n",
    "driver = webdriver.Chrome(service=ChromeService(ChromeDriverManager().install()), options=options)\n",
    "\n",
    "dfe_dict_list = []\n",
    "for ius in range(len(investing_com_urls)):\n",
    "    iusi = investing_com_urls[ius]\n",
    "    driver.get(iusi)\n",
    "\n",
    "    driver.implicitly_wait(10)\n",
    "    driver.find_element(By.CSS_SELECTOR, \".DatePickerWrapper_center__BYe4Q\").click()\n",
    "    driver.implicitly_wait(5)\n",
    "    driver.find_element(By.CSS_SELECTOR, \".HistoryDatePicker_HistoryDatePicker__IOT1L > div:nth-child(1) > div > div:nth-child(1)\").click()\n",
    "    driver.implicitly_wait(5)\n",
    "    driver.find_element(By.CSS_SELECTOR, \".HistoryDatePicker_HistoryDatePicker__IOT1L > div:nth-child(1) > div > div:nth-child(1) > input[type=date]\").clear()\n",
    "    driver.find_element(By.CSS_SELECTOR, \".HistoryDatePicker_HistoryDatePicker__IOT1L > div:nth-child(1) > div > div:nth-child(1) > input[type=date]\").send_keys(\"2020-01-01\")\n",
    "    driver.find_element(By.CSS_SELECTOR, \".HistoryDatePicker_HistoryDatePicker__IOT1L > div.HistoryDatePicker_footer__xzpr0 > button\").click()\n",
    "    \n",
    "    time.sleep(10)\n",
    "    \n",
    "    dfe_price = driver.find_elements(By.XPATH,\"//main//tbody//td[contains(@dir,'ltr') and not(contains(text(),'%'))]\")\n",
    "    dfe_date = driver.find_elements(By.XPATH,\"//main//tbody[contains(@class, 'datatable_body__tb4jX')]//td[contains(@class, 'datatable_cell__LJp3C font-bold')]/time\")\n",
    "\n",
    "    ep_list = [dfep_v.text for dfep_v in dfe_price]\n",
    "    ed_list = [dfed_v.text for dfed_v in dfe_date]\n",
    "\n",
    "    dfe_dict = dict(zip(ed_list, ep_list))\n",
    "    dfe_dict_list.append(dfe_dict)\n",
    "\n",
    "driver.close()\n",
    "driver.quit()"
   ]
  },
  {
   "cell_type": "code",
   "execution_count": 14,
   "metadata": {},
   "outputs": [],
   "source": [
    "# 배당금 일자와 종가별 일자를 대입해 같은 날짜면 해당 배당금과 종가를 계산하여 배당률 계산\n",
    "highest_dividend_list = []\n",
    "for list in range(len(stock_list)):\n",
    "    highest_dividend_dict = {}\n",
    "    for key, value in table_dividend_list[list].items():\n",
    "        if  key in dfe_dict_list[list].keys():\n",
    "            highest_dividend_rate = divi_rate(dfe_dict_list[list][key], \n",
    "                                                table_dividend_list[list][key],\n",
    "                                                dividend_freq[list])\n",
    "            highest_dividend_dict[key] = highest_dividend_rate\n",
    "    highest_dividend_list.append(highest_dividend_dict)"
   ]
  },
  {
   "cell_type": "code",
   "execution_count": 18,
   "metadata": {},
   "outputs": [
    {
     "name": "stdout",
     "output_type": "stream",
     "text": [
      "기준 날짜 :  2023-07-19\n"
     ]
    },
    {
     "data": {
      "text/html": [
       "<div>\n",
       "<style scoped>\n",
       "    .dataframe tbody tr th:only-of-type {\n",
       "        vertical-align: middle;\n",
       "    }\n",
       "\n",
       "    .dataframe tbody tr th {\n",
       "        vertical-align: top;\n",
       "    }\n",
       "\n",
       "    .dataframe thead th {\n",
       "        text-align: right;\n",
       "    }\n",
       "</style>\n",
       "<table border=\"1\" class=\"dataframe\">\n",
       "  <thead>\n",
       "    <tr style=\"text-align: right;\">\n",
       "      <th></th>\n",
       "      <th>티커</th>\n",
       "      <th>현재가($)</th>\n",
       "      <th>배당빈도</th>\n",
       "      <th>배당금($)</th>\n",
       "      <th>현재 배당률(%)</th>\n",
       "      <th>3년 내 최고 배당률(%)</th>\n",
       "    </tr>\n",
       "  </thead>\n",
       "  <tbody>\n",
       "    <tr>\n",
       "      <th>0</th>\n",
       "      <td>o</td>\n",
       "      <td>60.99</td>\n",
       "      <td>Monthly</td>\n",
       "      <td>0.2555</td>\n",
       "      <td>5.03</td>\n",
       "      <td>5.42</td>\n",
       "    </tr>\n",
       "    <tr>\n",
       "      <th>1</th>\n",
       "      <td>adm</td>\n",
       "      <td>80.75</td>\n",
       "      <td>Quarterly</td>\n",
       "      <td>0.450</td>\n",
       "      <td>2.23</td>\n",
       "      <td>3.76</td>\n",
       "    </tr>\n",
       "    <tr>\n",
       "      <th>2</th>\n",
       "      <td>aapl</td>\n",
       "      <td>193.61</td>\n",
       "      <td>Quarterly</td>\n",
       "      <td>0.240</td>\n",
       "      <td>0.50</td>\n",
       "      <td>1.06</td>\n",
       "    </tr>\n",
       "    <tr>\n",
       "      <th>3</th>\n",
       "      <td>msft</td>\n",
       "      <td>359.49</td>\n",
       "      <td>Quarterly</td>\n",
       "      <td>0.680</td>\n",
       "      <td>0.76</td>\n",
       "      <td>1.47</td>\n",
       "    </tr>\n",
       "    <tr>\n",
       "      <th>4</th>\n",
       "      <td>jepi</td>\n",
       "      <td>55.40</td>\n",
       "      <td>Monthly</td>\n",
       "      <td>0.3593</td>\n",
       "      <td>7.78</td>\n",
       "      <td>9.86</td>\n",
       "    </tr>\n",
       "    <tr>\n",
       "      <th>5</th>\n",
       "      <td>spy</td>\n",
       "      <td>454.19</td>\n",
       "      <td>Quarterly</td>\n",
       "      <td>1.63837</td>\n",
       "      <td>1.44</td>\n",
       "      <td>1.95</td>\n",
       "    </tr>\n",
       "  </tbody>\n",
       "</table>\n",
       "</div>"
      ],
      "text/plain": [
       "     티커  현재가($)       배당빈도   배당금($) 현재 배당률(%) 3년 내 최고 배당률(%)\n",
       "0     o   60.99    Monthly   0.2555      5.03           5.42\n",
       "1   adm   80.75  Quarterly    0.450      2.23           3.76\n",
       "2  aapl  193.61  Quarterly    0.240      0.50           1.06\n",
       "3  msft  359.49  Quarterly    0.680      0.76           1.47\n",
       "4  jepi   55.40    Monthly   0.3593      7.78           9.86\n",
       "5   spy  454.19  Quarterly  1.63837      1.44           1.95"
      ]
     },
     "execution_count": 18,
     "metadata": {},
     "output_type": "execute_result"
    }
   ],
   "source": [
    "# 현재 배당률과 3년 내 최고 배당률을 비교하여 투자할지 말지 결정하기 위한 표 산출\n",
    "stock_cols = ['티커', '현재가($)', '배당빈도', '배당금($)', '현재 배당률(%)', '3년 내 최고 배당률(%)']\n",
    "\n",
    "highest_dividend = []\n",
    "for i in range(len(stock_list)):\n",
    "    highest_dividend.append(max(highest_dividend_list[i].values()))\n",
    "\n",
    "all_info_final = np.c_[all_info, highest_dividend]\n",
    "\n",
    "stock_df = pd.DataFrame(all_info_final, columns=stock_cols)\n",
    "stock_df.to_csv('sujong_project_01', index='false')\n",
    "\n",
    "print(\"기준 날짜 : \", datetime.now().date())\n",
    "stock_df"
   ]
  },
  {
   "cell_type": "markdown",
   "metadata": {},
   "source": [
    "### 배당금 보는 방법\n",
    "\n",
    "1. 현재 배당률이 3년 내 최고 배당률에 근접한 종목 대상 \n",
    "   (개인적으로 0.2~0.5% 내 들어온 종목을 보지만, 섹터별, 전문가별 매매 기준이 다름으로 본인이 판단했을 때 감당 가능한 기준을 정해놓는게 좋다.)\n",
    "2. 재무재표 상 순이익(net income)이 전년도 대비 -50% 이상이며, 자본 잠식 상태가 아닐 경우를 기준으로 삼는다.\n",
    "3. 회사명을 검색했을 떄 부정적인 뉴스나 이슈가 별도로 있는지 확인한다.\n",
    "4. 환율은 1분기 내 10% 이상 급격하게 오르는 상황이 아니면 신경쓰지 않는다. "
   ]
  }
 ],
 "metadata": {
  "kernelspec": {
   "display_name": "web_crawling",
   "language": "python",
   "name": "python3"
  },
  "language_info": {
   "codemirror_mode": {
    "name": "ipython",
    "version": 3
   },
   "file_extension": ".py",
   "mimetype": "text/x-python",
   "name": "python",
   "nbconvert_exporter": "python",
   "pygments_lexer": "ipython3",
   "version": "3.8.16"
  },
  "orig_nbformat": 4
 },
 "nbformat": 4,
 "nbformat_minor": 2
}
