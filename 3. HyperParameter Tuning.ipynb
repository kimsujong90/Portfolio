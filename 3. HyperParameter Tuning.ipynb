{
 "cells": [
  {
   "cell_type": "code",
   "execution_count": 9,
   "metadata": {},
   "outputs": [],
   "source": [
    "import pandas as pd\n",
    "import numpy as np\n",
    "import matplotlib.pyplot as plt\n",
    "import seaborn as sns\n",
    "from sklearn.model_selection import train_test_split\n",
    "import warnings\n",
    "from sklearn.preprocessing import LabelEncoder\n",
    "from sklearn.model_selection import GridSearchCV\n",
    "from sklearn.model_selection import StratifiedKFold\n",
    "\n",
    "from xgboost import XGBClassifier\n",
    "from lightgbm import LGBMClassifier\n",
    "from sklearn.linear_model import LogisticRegression\n",
    "from sklearn.ensemble import RandomForestClassifier\n",
    "from sklearn.preprocessing import StandardScaler\n",
    "from sklearn.model_selection import train_test_split\n",
    "import inspect\n",
    "from catboost import CatBoostClassifier\n",
    "\n",
    "from sklearn.metrics import roc_auc_score, roc_curve\n",
    "\n",
    "warnings.filterwarnings('ignore')"
   ]
  },
  {
   "attachments": {},
   "cell_type": "markdown",
   "metadata": {},
   "source": [
    "## **1. Prepare data**"
   ]
  },
  {
   "cell_type": "code",
   "execution_count": 2,
   "metadata": {},
   "outputs": [],
   "source": [
    "# data read\n",
    "train = pd.read_csv('train.csv')\n",
    "test = pd.read_csv('test.csv') # 건드리지 말것.\n",
    "train_1 = train.astype('category').copy()\n",
    "randomstate = 123\n",
    "\n",
    "# ready for encoding\n",
    "train_2 = train_1.iloc[:,1:].copy()\n",
    "target_y = train_1.iloc[:,0].copy()"
   ]
  },
  {
   "cell_type": "code",
   "execution_count": 3,
   "metadata": {},
   "outputs": [],
   "source": [
    "# LabelEncoding\n",
    "def label_encoding(x, columns):\n",
    "    x_dict={}\n",
    "    encoding_X = x[columns]\n",
    "    encoder = LabelEncoder()\n",
    "    \n",
    "    encoder.fit(encoding_X)\n",
    "    \n",
    "    x_list = encoder.transform(encoding_X)\n",
    "    x_dict[columns] = x_list.tolist()\n",
    "\n",
    "    return x_dict    \n",
    "\n",
    "def label_encoding_concat(main):\n",
    "    x_train_dict_1 = {}\n",
    "    for i in main.columns:\n",
    "        x_train_label = label_encoding(main, i)\n",
    "        x_train_dict_1.update(x_train_label)\n",
    "        \n",
    "        x_train_df = pd.DataFrame(x_train_dict_1)\n",
    "    \n",
    "    return x_train_df"
   ]
  },
  {
   "cell_type": "code",
   "execution_count": 4,
   "metadata": {},
   "outputs": [],
   "source": [
    "# OneHotEncoding\n",
    "def make_dummy(dataframe_value):\n",
    "    dummy_X = pd.get_dummies(dataframe_value)\n",
    "    return dummy_X"
   ]
  },
  {
   "cell_type": "code",
   "execution_count": 5,
   "metadata": {},
   "outputs": [],
   "source": [
    "# dummy encoding\n",
    "X_train_dummies = make_dummy(train_2)"
   ]
  },
  {
   "attachments": {},
   "cell_type": "markdown",
   "metadata": {},
   "source": [
    "## **2. HyperParameter Tuning**"
   ]
  },
  {
   "attachments": {},
   "cell_type": "markdown",
   "metadata": {},
   "source": [
    "### 모델의 학습 과정\n",
    "- get_dummies로 만든 원핫인코딩 데이터를 gridsearchcv를 통해 돌려본다.\n",
    "- 파라미터를 조금씩 변경해봐서 돌린 후 값이 제일 잘 나온 파라미터를 최종 선택한다. "
   ]
  },
  {
   "cell_type": "code",
   "execution_count": 6,
   "metadata": {},
   "outputs": [],
   "source": [
    "# 랜덤포레스트 하이퍼 파라미터 튜닝하기\n",
    "rf = RandomForestClassifier(random_state=123)\n",
    "\n",
    "param_rf = {\n",
    "            \"n_estimators\" : [10,50,100,200,300,500],\n",
    "            \"min_samples_leaf\" : [1,3,5],\n",
    "            \"min_samples_split\" : [1,3,5],\n",
    "            \"max_depth\" : [10,50,100,200,300,500]\n",
    "            }\n",
    "\n",
    "# train & test 데이터 세팅\n",
    "X_train, X_test, y_train, y_test = train_test_split(\n",
    "    X_train_dummies, target_y, test_size=0.2, random_state=123)\n",
    "\n",
    "gscv = GridSearchCV (estimator = rf,\n",
    "                                param_grid = param_rf,\n",
    "                                scoring ='roc_auc',\n",
    "                                cv = 2,\n",
    "                                n_jobs=-1,\n",
    "                                verbose=0)\n",
    "\n",
    "gscv.fit(X_train, y_train)\n",
    "print(f'최적의 파라미터 :', gscv.best_params_)\n",
    "print(f'최고 스코어 : {gscv.best_score_:.4f}')"
   ]
  },
  {
   "attachments": {},
   "cell_type": "markdown",
   "metadata": {},
   "source": [
    "## * 최종모델 : RandomForestClassifier\n",
    "\n",
    "- 최적의 파라미터 : {'max_depth': 300, 'min_samples_leaf': 1, 'min_samples_split': 3, 'n_estimators': 500}\n",
    "\n",
    "- 최고 스코어 : 0.8259"
   ]
  },
  {
   "cell_type": "code",
   "execution_count": 10,
   "metadata": {},
   "outputs": [
    {
     "data": {
      "text/plain": [
       "0.6514739781014645"
      ]
     },
     "execution_count": 10,
     "metadata": {},
     "output_type": "execute_result"
    }
   ],
   "source": [
    "# 결과값 확인해보기!\n",
    "gb = gscv.best_estimator_\n",
    "pred = gb.predict(X_test)\n",
    "roc_auc_score(y_test,pred)\n"
   ]
  },
  {
   "cell_type": "code",
   "execution_count": 24,
   "metadata": {},
   "outputs": [],
   "source": [
    "rf = RandomForestClassifier(\n",
    "            random_state=123, \n",
    "            n_estimators =300,\n",
    "            min_samples_leaf =1,\n",
    "            min_samples_split =3,\n",
    "            max_depth =500\n",
    "            ).fit(X_train, y_train)"
   ]
  },
  {
   "cell_type": "code",
   "execution_count": 27,
   "metadata": {},
   "outputs": [
    {
     "data": {
      "image/png": "[encoded data removed]",
      "text/plain": [
       "<Figure size 600x600 with 1 Axes>"
      ]
     },
     "metadata": {},
     "output_type": "display_data"
    }
   ],
   "source": [
    "# roc 곡선 그려보기\n",
    "score1 = rf.predict_proba(X_test)[:,1]\n",
    "fpr, tpr, cut1 = roc_curve(y_test, score1)\n",
    "\n",
    "fig = plt.figure(figsize=(6,6))\n",
    "ax = fig.subplots()\n",
    "ax.plot(fpr, tpr, label='RF')\n",
    "ax.plot([0,1],[0,1], color='red', linestyle='--')\n",
    "ax.legend()\n",
    "plt.show()"
   ]
  },
  {
   "attachments": {},
   "cell_type": "markdown",
   "metadata": {},
   "source": [
    "---\n",
    "### 향후계획\n",
    "- 연산 속도가 너무 오래 걸려 쉽게 사용할 수 없었다. (최소 2시간)\n",
    "- 최적합 점수가 82%이나 실제 테스트셋은 62%인점 -> 과적합 의심\n",
    "  * 해결방안\n",
    "  1. 원핫인코딩 -> 라벨인코딩\n",
    "     - 원핫인코딩은 피처수가 너무 많아지므로 과적합이 우려되긴했었다.\n",
    "     - 라벨인코딩으로 변경하여 적용해보는 게 좋을 것 같다.\n",
    "  2. 오버샘플링 적용\n",
    "     - 데이터 EDA 시 1값이 압도적으로 많은 것을 볼 수 있었다.\n",
    "     - 라벨인코딩으로도 잘 안되면 오버샘플링을 적용해보자."
   ]
  },
  {
   "cell_type": "markdown",
   "metadata": {},
   "source": []
  }
 ],
 "metadata": {
  "kernelspec": {
   "display_name": "Machine Learning",
   "language": "python",
   "name": "mlearning"
  },
  "language_info": {
   "codemirror_mode": {
    "name": "ipython",
    "version": 3
   },
   "file_extension": ".py",
   "mimetype": "text/x-python",
   "name": "python",
   "nbconvert_exporter": "python",
   "pygments_lexer": "ipython3",
   "version": "3.8.16"
  },
  "orig_nbformat": 4
 },
 "nbformat": 4,
 "nbformat_minor": 2
}
